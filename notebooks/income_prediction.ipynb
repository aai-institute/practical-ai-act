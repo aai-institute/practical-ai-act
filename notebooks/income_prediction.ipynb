{
 "cells": [
  {
   "cell_type": "markdown",
   "id": "01f68bb1-f810-418d-b7a1-706fd4444c5d",
   "metadata": {},
   "source": [
    "# Income Prediction"
   ]
  },
  {
   "cell_type": "markdown",
   "id": "089d0877-6124-4ea7-ad9b-481a0762c30d",
   "metadata": {},
   "source": [
    "## Init"
   ]
  },
  {
   "cell_type": "code",
   "execution_count": null,
   "id": "9ab68bf0-008f-4066-924b-73862e859047",
   "metadata": {},
   "outputs": [],
   "source": [
    "import pandas as pd\n",
    "from sklearn.model_selection import train_test_split\n",
    "from sklearn.pipeline import Pipeline\n",
    "from sklearn.preprocessing import StandardScaler, OneHotEncoder\n",
    "from sklearn.compose import ColumnTransformer\n",
    "from xgboost import XGBClassifier\n",
    "import mlflow"
   ]
  },
  {
   "cell_type": "markdown",
   "id": "2f157aeb-7e99-4670-a6ab-f5dd0a3d4ea8",
   "metadata": {},
   "source": [
    "## Configuration"
   ]
  },
  {
   "cell_type": "code",
   "execution_count": null,
   "id": "3633b8ce-3b32-4e30-9880-0c08a11f2418",
   "metadata": {},
   "outputs": [],
   "source": [
    "NUMERICAL_FEATURES = [\"age\", \"education_num\", \"hours_per_week\", \"net_capital\"]\n",
    "CATEGORICAL_FEATURES = [\"workclass\", \"education\", \"marital_status\", \"occupation\", \"relationship\", \"race\", \"sex\", \"native_country\"]\n",
    "\n",
    "TARGET = \"income\"\n",
    "\n",
    "RANDOM_STATE = 42\n",
    "\n",
    "mlflow.set_tracking_uri(\"http://localhost:4040\")\n",
    "mlflow.set_experiment(\"Income prediction\")\n",
    "\n",
    "mlflow.sklearn.autolog(log_datasets=False)\n",
    "mlflow.xgboost.autolog(log_datasets=False)"
   ]
  },
  {
   "cell_type": "markdown",
   "id": "d9d0f7b9-8070-4ff5-b2de-9f82f0a96b15",
   "metadata": {},
   "source": [
    "## Data Ingestion & Preparation"
   ]
  },
  {
   "cell_type": "code",
   "execution_count": null,
   "id": "d7a361e0-fac2-4a7a-9e22-d6859b54456c",
   "metadata": {},
   "outputs": [],
   "source": [
    "data = pd.read_csv(\"../data/income_data_processed.csv\")\n",
    "data.head()"
   ]
  },
  {
   "cell_type": "code",
   "execution_count": null,
   "id": "eab0d7d1-afaa-4938-8f38-d4cdeceb2801",
   "metadata": {},
   "outputs": [],
   "source": [
    "feature_columns = NUMERICAL_FEATURES + CATEGORICAL_FEATURES\n",
    "features = data[feature_columns + [TARGET]]\n",
    "features.head()"
   ]
  },
  {
   "cell_type": "code",
   "execution_count": null,
   "id": "b7b88eed-b143-44d8-b257-007bcdb7fe79",
   "metadata": {},
   "outputs": [],
   "source": [
    "train_data, test_data = train_test_split(features, random_state=RANDOM_STATE)\n",
    "\n",
    "train_input = train_data[feature_columns]\n",
    "train_output = train_data[TARGET]"
   ]
  },
  {
   "cell_type": "markdown",
   "id": "027c215a-6143-423d-b910-a81f6742f45b",
   "metadata": {},
   "source": [
    "## XGBoost Classification"
   ]
  },
  {
   "cell_type": "code",
   "execution_count": null,
   "id": "d557cbd5-8426-4567-a921-bb2909609393",
   "metadata": {},
   "outputs": [],
   "source": [
    "numerical_transformer = Pipeline([\n",
    "    (\"scaler\", StandardScaler()),\n",
    "])\n",
    "\n",
    "categorical_transformer = Pipeline([\n",
    "    (\"encoder\", OneHotEncoder()),\n",
    "])\n",
    "\n",
    "preprocessor = ColumnTransformer([\n",
    "    (\"numerical\", numerical_transformer, NUMERICAL_FEATURES),\n",
    "    (\"categorical\", categorical_transformer, CATEGORICAL_FEATURES),\n",
    "])\n",
    "\n",
    "pipeline = Pipeline([\n",
    "    (\"preprocessor\", preprocessor),\n",
    "    (\"classifier\", XGBClassifier(random_state=RANDOM_STATE)),\n",
    "])"
   ]
  },
  {
   "cell_type": "code",
   "execution_count": null,
   "id": "1b14cdb7-e141-4e06-88d3-ffe17351dd98",
   "metadata": {},
   "outputs": [],
   "source": [
    "with mlflow.start_run():\n",
    "    pipeline.fit(train_input, train_output)\n",
    "\n",
    "    mlflow.evaluate(\n",
    "        model=pipeline.predict,\n",
    "        data=test_data,\n",
    "        targets=TARGET,\n",
    "        model_type=\"classifier\",\n",
    "    )"
   ]
  }
 ],
 "metadata": {
  "kernelspec": {
   "display_name": "Python 3 (ipykernel)",
   "language": "python",
   "name": "python3"
  },
  "language_info": {
   "codemirror_mode": {
    "name": "ipython",
    "version": 3
   },
   "file_extension": ".py",
   "mimetype": "text/x-python",
   "name": "python",
   "nbconvert_exporter": "python",
   "pygments_lexer": "ipython3",
   "version": "3.12.1"
  }
 },
 "nbformat": 4,
 "nbformat_minor": 5
}
