{
 "cells": [
  {
   "cell_type": "markdown",
   "id": "9f9a58e2-b362-4bdb-8f41-4e026151d215",
   "metadata": {},
   "source": [
    "# Income dataset preprocessing"
   ]
  },
  {
   "cell_type": "code",
   "execution_count": 1,
   "id": "09d675c4-c934-4de5-ae2f-fd34a1fa0131",
   "metadata": {},
   "outputs": [],
   "source": [
    "import pandas as pd"
   ]
  },
  {
   "cell_type": "code",
   "execution_count": null,
   "id": "e6a639cb-bf88-4460-82c5-2e2918d06e9f",
   "metadata": {},
   "outputs": [],
   "source": [
    "data = pd.read_csv(\"../data/adult.data\", sep=\", \", engine='python')\n",
    "data"
   ]
  },
  {
   "cell_type": "code",
   "execution_count": null,
   "id": "f0b4f1e6-d6fb-45e9-894c-e19fdc1a507b",
   "metadata": {},
   "outputs": [],
   "source": [
    "workclass_mapping = {\n",
    "    \"Private\": \"Private\",\n",
    "    \"Self-emp-not-inc\": \"Self-employed\",\n",
    "    \"Self-emp-inc\": \"Self-employed\",\n",
    "    \"Local-gov\": \"Government\",\n",
    "    \"State-gov\": \"Government\",\n",
    "    \"Federal-gov\": \"Government\",\n",
    "    \"Without-pay\": \"Unemployed\",\n",
    "    \"Never-worked\": \"Unemployed\",\n",
    "    \"?\": \"Unknown\",\n",
    "}\n",
    "data[\"workclass\"] = data[\"workclass\"].map(workclass_mapping)\n",
    "data"
   ]
  },
  {
   "cell_type": "code",
   "execution_count": null,
   "id": "de1271c0-0b02-4bf2-980e-76c85d02cb92",
   "metadata": {},
   "outputs": [],
   "source": [
    "data = data.drop(columns=[\"fnlwgt\"])\n",
    "data"
   ]
  },
  {
   "cell_type": "code",
   "execution_count": null,
   "id": "be2fc057-3af7-4bc8-b869-0a8ac5d0b751",
   "metadata": {},
   "outputs": [],
   "source": [
    "education_mapping = {\n",
    "    \"Preschool\": \"No formal education\",\n",
    "    \"1st-4th\": \"No formal education\",\n",
    "    \"5th-6th\": \"No formal education\",\n",
    "    \"7th-8th\": \"No formal education\",\n",
    "    \"9th\": \"Some High School\",\n",
    "    \"10th\": \"Some High School\",\n",
    "    \"11th\": \"Some High School\",\n",
    "    \"12th\": \"Some High School\",\n",
    "    \"HS-grad\": \"High School Graduate\",\n",
    "    \"Some-college\": \"Collage/Associate Degree\",\n",
    "    \"Bachelors\": \"Bachelor's Degree\",\n",
    "    \"Masters\": \"Advanced Degree\",\n",
    "    \"Doctorate\": \"Advanced Degree\",\n",
    "    \"Prof-school\": \"Advanced Degree\",\n",
    "}\n",
    "\n",
    "data[\"education\"] = data[\"education\"].map(education_mapping)\n",
    "data"
   ]
  },
  {
   "cell_type": "code",
   "execution_count": null,
   "id": "afc37c91-1195-4626-8ec1-6f1580a9a6b0",
   "metadata": {},
   "outputs": [],
   "source": [
    "marital_status_mapping = {\n",
    "    \"Married-civ-spouse\": \"Married\",\n",
    "    \"Married-spouse-absent\": \"Married\",\n",
    "    \"Married-AF-spouse\": \"Married\",\n",
    "    \"Never-married\": \"Never Married\",\n",
    "    \"Divorced\": \"Previously Married\",\n",
    "    \"Separated\": \"Previously Married\",\n",
    "    \"Widowed\": \"Previously Married\",\n",
    "}\n",
    "\n",
    "data[\"marital_status\"] = data[\"marital_status\"].map(marital_status_mapping)\n",
    "data"
   ]
  },
  {
   "cell_type": "code",
   "execution_count": null,
   "id": "6685f95a-ff1a-4a2a-8ef4-6a02b4d56434",
   "metadata": {},
   "outputs": [],
   "source": [
    "occupation_mapping = {\n",
    "    \"Tech-support\": \"White Collar\",\n",
    "    \"Exec-managerial\": \"White Collar\",\n",
    "    \"Prof-specialty\": \"White Collar\",\n",
    "    \"Sales\": \"White Collar\",\n",
    "    \"Adm-clerical\": \"White Collar\",\n",
    "    \"Craft-repair\": \"Blue Collar\",\n",
    "    \"Machine-opt-inspct\": \"Blue Collar\",\n",
    "    \"Handlers-cleaners\": \"Blue Collar\",\n",
    "    \"Farming-fishing\": \"Blue Collar\",\n",
    "    \"Transport-moving\": \"Blue Collar\",\n",
    "    \"Other-service\": \"Service\",\n",
    "    \"Protective-service\": \"Service\",\n",
    "    \"Priv-house-serv\": \"Service\",\n",
    "    \"Armed-Forces\": \"Military\",\n",
    "    \"?\": \"Unknown\",\n",
    "}\n",
    "\n",
    "data[\"occupation\"] = data[\"occupation\"].map(occupation_mapping)\n",
    "data"
   ]
  },
  {
   "cell_type": "code",
   "execution_count": null,
   "id": "978aa7e5-4ade-4703-a66f-d147c7449519",
   "metadata": {},
   "outputs": [],
   "source": [
    "relationship_mapping = {\n",
    "    \"Wife\": \"Spouse\",\n",
    "    \"Husband\": \"Spouse\",\n",
    "    \"Own-Child\": \"Child\",\n",
    "    \"Other-relative\": \"Other Relative\",\n",
    "    \"Not-in-family\": \"Not family\",\n",
    "    \"Unmarried\": \"Not family\",\n",
    "}\n",
    "\n",
    "data[\"relationship\"] = data[\"relationship\"].map(relationship_mapping)\n",
    "data"
   ]
  },
  {
   "cell_type": "code",
   "execution_count": null,
   "id": "68898a86-df79-475c-9b7e-54ffbbc424e0",
   "metadata": {},
   "outputs": [],
   "source": [
    "race_mapping = {\n",
    "    \"White\": \"White\",\n",
    "    \"Black\": \"Other\",\n",
    "    \"Asian-Pac-Islander\": \"Other\",\n",
    "    \"Amer-Indian-Eskimo\": \"Other\",\n",
    "    \"Other\": \"Other\",\n",
    "}\n",
    "\n",
    "data[\"race\"] = data[\"race\"].map(race_mapping)\n",
    "data"
   ]
  },
  {
   "cell_type": "code",
   "execution_count": null,
   "id": "117d054f-fd74-4890-98e5-0cb757038c01",
   "metadata": {},
   "outputs": [],
   "source": [
    "def reduce_native_country(country):\n",
    "    if country == \"United-States\":\n",
    "        return \"US\"\n",
    "    elif country == \"?\":\n",
    "        return \"Unknown\"\n",
    "    else:\n",
    "        return \"Other\"\n",
    "\n",
    "data[\"native_country\"] = data[\"native_country\"].apply(reduce_native_country)\n",
    "data"
   ]
  },
  {
   "cell_type": "code",
   "execution_count": null,
   "id": "d0e881bd-1a46-4aca-b9cf-2129becf41f3",
   "metadata": {},
   "outputs": [],
   "source": [
    "income_mapping = {\n",
    "    \"<=50K\": 0,\n",
    "    \">50K\": 1,\n",
    "}\n",
    "\n",
    "data[\"income\"] = data[\"income\"].map(income_mapping)\n",
    "data"
   ]
  },
  {
   "cell_type": "code",
   "execution_count": null,
   "id": "1e725c21-28e5-46a3-b976-497c9697faeb",
   "metadata": {},
   "outputs": [],
   "source": [
    "data = data.dropna()\n",
    "data"
   ]
  },
  {
   "cell_type": "code",
   "execution_count": null,
   "id": "fc7c8555-629a-48d3-8e44-72b9a1c576fc",
   "metadata": {},
   "outputs": [],
   "source": [
    "data[\"net_capital\"] = data[\"capital_gain\"] - data[\"capital_loss\"]\n",
    "data = data.drop(columns=[\"capital_gain\", \"capital_loss\"])\n",
    "data"
   ]
  },
  {
   "cell_type": "code",
   "execution_count": 94,
   "id": "68c3a32b-912c-4c83-b145-17e24d7504cf",
   "metadata": {},
   "outputs": [],
   "source": [
    "data.to_csv(\"../data/income_data_processed.csv\")"
   ]
  }
 ],
 "metadata": {
  "kernelspec": {
   "display_name": "Python 3 (ipykernel)",
   "language": "python",
   "name": "python3"
  },
  "language_info": {
   "codemirror_mode": {
    "name": "ipython",
    "version": 3
   },
   "file_extension": ".py",
   "mimetype": "text/x-python",
   "name": "python",
   "nbconvert_exporter": "python",
   "pygments_lexer": "ipython3",
   "version": "3.12.1"
  }
 },
 "nbformat": 4,
 "nbformat_minor": 5
}
